{
 "cells": [
  {
   "cell_type": "code",
   "execution_count": 1,
   "metadata": {},
   "outputs": [],
   "source": [
    "import requests\n",
    "def get_claude_completion(prompt):\n",
    "    url = 'https://runway.devops.rednote.life/openai/bedrock_runtime/model/invoke'\n",
    "    headers = {\n",
    "        'token': 'd32974a62c3d471da311064046166621',\n",
    "        'Content-Type': 'application/json'\n",
    "    }\n",
    "    data = {\n",
    "        \"anthropic_version\": \"bedrock-2023-05-31\", \n",
    "        \"max_tokens\": 4096,\n",
    "        \"messages\": [\n",
    "            {\n",
    "                \"role\": \"user\",\n",
    "                \"content\": [\n",
    "                    {\n",
    "                        \"type\": \"text\",\n",
    "                        \"text\": prompt\n",
    "                    }\n",
    "                ]\n",
    "            }\n",
    "        ]\n",
    "    }\n",
    "    \n",
    "    response = requests.post(url, headers=headers, json=data)\n",
    "    return response.json()['content'][0]['text']"
   ]
  },
  {
   "cell_type": "code",
   "execution_count": 3,
   "metadata": {},
   "outputs": [],
   "source": [
    "DIVIDE_SP_1 = \"\"\"You are given a complex and information-rich instruction. Your task is to decompose this instruction into:\n",
    "1. One **core instruction** that captures the essence and overall goal of the original instruction.  \n",
    "2. Several **supplementary instructions** that elaborate on or add details to the core instruction. These supplementary instructions must be strongly related to and dependent on the core instruction — they should not function as independent tasks.\n",
    "\n",
    "The goal is **not** to split the complex instruction into multiple independent tasks, but to extract a structured representation where **one core instruction summarizes the main task**, and each supplementary instruction provides additional, context-specific clarifications, constraints, or elaborations that support the core instruction.\n",
    "\n",
    "Ensure that:  \n",
    "- The **core instruction** stands as a concise and accurate abstraction of the full intent.  \n",
    "- Each **supplementary instruction** refines or extends the core instruction without diverging into a separate goal.\n",
    "\n",
    "Use clear and precise language. Do not omit any key information from the original instruction — ensure all content is preserved through the combination of the core and supplementary instructions.\n",
    "\n",
    "**Example Input**:\n",
    "\"Write a Python script that reads a CSV file containing user information, filters out users under the age of 18, sorts the remaining users by their registration date in descending order, and then saves the result to a new CSV file with UTF-8 encoding.\"\n",
    "\n",
    "**Example Output**:\n",
    "Core Instruction: Write a Python script to process user data from a CSV file.\n",
    "\n",
    "Supplementary Instructions:\n",
    "1. Filter out users who are under the age of 18.\n",
    "2. Sort the remaining users by registration date in descending order.\n",
    "3. Save the processed data to a new CSV file using UTF-8 encoding.\n",
    "\n",
    "**Output Format** (strictly follow this Python dictionary format):\n",
    "\n",
    "{{\n",
    "    \"Core Instruction\": <insert core instruction here>,\n",
    "    \"Supplementary Instructions\": [<first supplementary instruction>, <second supplementary instruction>, ...]\n",
    "}}\n",
    "\n",
    "Now process this instruction as input:\n",
    "{prompt}\n",
    "\"\"\"\n",
    "\n",
    "prompt = DIVIDE_SP_1.format(prompt=\"Given an integer n, an alternating permutation is a permutation of the first n positive integers such that no two adjacent elements are both odd or both even.\\nReturn all such alternating permutations sorted in lexicographical order.\\n \\nExample 1:\\n\\nInput: n = 4\\nOutput: [[1,2,3,4],[1,4,3,2],[2,1,4,3],[2,3,4,1],[3,2,1,4],[3,4,1,2],[4,1,2,3],[4,3,2,1]]\\n\\nExample 2:\\n\\nInput: n = 2\\nOutput: [[1,2],[2,1]]\\n\\nExample 3:\\n\\nInput: n = 3\\nOutput: [[1,2,3],[3,2,1]]\\n\\n \\nConstraints:\\n\\n1 <= n <= 10\\n\\n\")"
   ]
  },
  {
   "cell_type": "code",
   "execution_count": null,
   "metadata": {},
   "outputs": [],
   "source": [
    "get_claude_completion(prompt)"
   ]
  },
  {
   "cell_type": "code",
   "execution_count": null,
   "metadata": {},
   "outputs": [],
   "source": [
    "import json\n",
    "import numpy as np\n",
    "with open('/cpfs/user/zhengziwei/workspace/agent/VeRL-Agent/data/collab_code/LeetCodeDataset-v0.3.0-train-claude.jsonl', 'r') as f:\n",
    "    supp = [json.loads(line.strip())['collab_divide']['Supplementary Instructions'] for line in f.readlines()]\n",
    "len(supp)"
   ]
  },
  {
   "cell_type": "code",
   "execution_count": null,
   "metadata": {},
   "outputs": [],
   "source": [
    "num_supp = [len(s) for s in supp]\n",
    "np.min(num_supp), np.max(num_supp), np.mean(num_supp)"
   ]
  },
  {
   "cell_type": "code",
   "execution_count": null,
   "metadata": {},
   "outputs": [],
   "source": [
    "from verl.workers.agent.envs.collab_code.code import code_exec, extract_code_from_string\n",
    "\n",
    "PY_IMPORTS = \"import heapq\\nfrom math import floor, gcd\\nimport random\\nimport sys\\nfrom typing import *\\nfrom functools import *\\nimport collections\\nfrom collections import *\\nfrom itertools import *\\nfrom heapq import *\\nfrom bisect import *\\nfrom string import *\\nimport math\\nimport datetime\\ninf = float('inf')\\n\"\n",
    "\n",
    "response = \n",
    "\n",
    "succ, output = code_exec(solution_code + \"\\n\" + ground_truth[\"functional\"])"
   ]
  },
  {
   "cell_type": "code",
   "execution_count": null,
   "metadata": {},
   "outputs": [],
   "source": [
    "import re\n",
    "\n",
    "def replace_between_question_and_format(text):\n",
    "    pattern = r\"(### Question:\\n)(.*?)(\\n\\n\\n\\n### Format:)\"\n",
    "    replaced_text = re.sub(pattern, r\"\\1{prompt}\\3\", text, flags=re.DOTALL)\n",
    "    return replaced_text\n",
    "\n",
    "replace_between_question_and_format(\"You are an expert Python programmer. You will be given a question (problem specification) and will generate a correct Python program that matches the specification and passes all tests.\\n\\n### Question:\\nThere is a 1-indexed 8 x 8 chessboard containing 3 pieces.\\nYou are given 6 integers a, b, c, d, e, and f where:\\n\\n(a, b) denotes the position of the white rook.\\n(c, d) denotes the position of the white bishop.\\n(e, f) denotes the position of the black queen.\\n\\nGiven that you can only move the white pieces, return the minimum number of moves required to capture the black queen.\\nNote that:\\n\\nRooks can move any number of squares either vertically or horizontally, but cannot jump over other pieces.\\nBishops can move any number of squares diagonally, but cannot jump over other pieces.\\nA rook or a bishop can capture the queen if it is located in a square that they can move to.\\nThe queen does not move.\\n\\n \\nExample 1:\\n\\n\\nInput: a = 1, b = 1, c = 8, d = 8, e = 2, f = 3\\nOutput: 2\\nExplanation: We can capture the black queen in two moves by moving the white rook to (1, 3) then to (2, 3).\\nIt is impossible to capture the black queen in less than two moves since it is not being attacked by any of the pieces at the beginning.\\n\\nExample 2:\\n\\n\\nInput: a = 5, b = 3, c = 3, d = 4, e = 5, f = 2\\nOutput: 1\\nExplanation: We can capture the black queen in a single move by doing one of the following: \\n- Move the white rook to (5, 2).\\n- Move the white bishop to (5, 2).\\n\\n \\nConstraints:\\n\\n1 <= a, b, c, d, e, f <= 8\\nNo two pieces are on the same square.\\n\\n\\n\\n### Format: You will use the following starter code to write the solution to the problem and enclose your code within delimiters.\\n```python\\nclass Solution:\\n    def minMovesToCaptureTheQueen(self, a: int, b: int, c: int, d: int, e: int, f: int) -> int:\\n```\\n\\n### Answer: (use the provided format with backticks)\\n\").format(prompt='!!!!!')"
   ]
  },
  {
   "cell_type": "code",
   "execution_count": null,
   "metadata": {},
   "outputs": [],
   "source": [
    "import re\n",
    "def extract_code_content(content):\n",
    "    pattern = r'```python\\n(.*?)\\n```'\n",
    "    matches = re.findall(pattern, content, flags=re.DOTALL)\n",
    "    return matches\n",
    "\n",
    "len(extract_code_content('ddd')) == 0"
   ]
  },
  {
   "cell_type": "code",
   "execution_count": 14,
   "metadata": {},
   "outputs": [],
   "source": [
    "import json\n",
    "import numpy as np\n",
    "\n",
    "def get_result(input_file):\n",
    "    accs, turns, success_turns = [], [], []\n",
    "    with open(input_file, 'r') as f:\n",
    "        for line in f:\n",
    "            data = json.loads(line)\n",
    "            try:\n",
    "                success = data['test_success']\n",
    "            except:\n",
    "                success = False\n",
    "            accs.append(success)\n",
    "            if success:\n",
    "                success_turns.append(data['turns'])\n",
    "            turns.append(data['turns'])\n",
    "    return np.mean(accs), np.mean(turns), np.mean(success_turns)"
   ]
  },
  {
   "cell_type": "code",
   "execution_count": null,
   "metadata": {},
   "outputs": [],
   "source": [
    "for model in ['7b', '32b', '72b']:\n",
    "    for user in ['low', 'mid', 'high']:\n",
    "        input_file = f'./data/collab_code/qwen-{model}-instruct/LeetCodeDataset-v0.3.0-test-auto_dialogue-{user}.jsonl'.format(model=model, user=user)\n",
    "        acc, turn, success_turn = get_result(input_file)\n",
    "        print(f'Qwen-{model}-instruct with {user}-user || Accuracy: {acc:.2f}, Turns: {turn:.2f}, Success_Turns: {success_turn:.2f}'.format(model=model, user=user, acc=acc, turn=turn, success_turn=success_turn))"
   ]
  },
  {
   "cell_type": "code",
   "execution_count": null,
   "metadata": {},
   "outputs": [],
   "source": []
  },
  {
   "cell_type": "code",
   "execution_count": 28,
   "metadata": {},
   "outputs": [],
   "source": [
    "import pandas as pd\n",
    "\n",
    "# 读取 Parquet 文件\n",
    "df = pd.read_parquet('data/code-r1/train-00000-of-00001.parquet')  # 自动选择合适的 engine\n",
    "\n",
    "# 如果你想手动指定引擎（可选）\n",
    "# df = pd.read_parquet('file_path.parquet', engine='pyarrow')\n",
    "# df = pd.read_parquet('file_path.parquet', engine='fastparquet')\n",
    "\n",
    "# print(df.head())"
   ]
  },
  {
   "cell_type": "code",
   "execution_count": null,
   "metadata": {},
   "outputs": [],
   "source": [
    "json_str = df.to_dict(orient='records')\n",
    "print(json_str)"
   ]
  },
  {
   "cell_type": "code",
   "execution_count": null,
   "metadata": {},
   "outputs": [],
   "source": [
    "json_str[711]['extra_info']['dataset']"
   ]
  },
  {
   "cell_type": "code",
   "execution_count": null,
   "metadata": {},
   "outputs": [],
   "source": [
    "len(json_str)"
   ]
  },
  {
   "cell_type": "code",
   "execution_count": null,
   "metadata": {},
   "outputs": [],
   "source": [
    "in_out = json.loads(json_str[711]['reward_model']['ground_truth'])\n",
    "if 'functional' in in_out:\n",
    "    inputs = in_out['functional']\n",
    "inputs, outputs = in_out['inputs'], in_out['outputs']"
   ]
  },
  {
   "cell_type": "code",
   "execution_count": null,
   "metadata": {},
   "outputs": [],
   "source": [
    "json_str[711]"
   ]
  },
  {
   "cell_type": "code",
   "execution_count": null,
   "metadata": {},
   "outputs": [],
   "source": [
    "idx = 0\n",
    "for j in json_str:\n",
    "    if 'functional' in j['reward_model']['ground_truth']:\n",
    "        idx += 1\n",
    "idx"
   ]
  },
  {
   "cell_type": "code",
   "execution_count": null,
   "metadata": {},
   "outputs": [],
   "source": [
    "json.loads(json_str[711]['reward_model']['ground_truth'])"
   ]
  },
  {
   "cell_type": "code",
   "execution_count": null,
   "metadata": {},
   "outputs": [],
   "source": [
    "print(df['prompt'][711][1]['content'])"
   ]
  },
  {
   "cell_type": "code",
   "execution_count": null,
   "metadata": {},
   "outputs": [],
   "source": [
    "print(df['extra_info'][711]['reference'])"
   ]
  },
  {
   "cell_type": "code",
   "execution_count": 14,
   "metadata": {},
   "outputs": [],
   "source": [
    "import sys\n",
    "def minimize_stdio(inputs, outputs, max_n_tests=8):\n",
    "    stdin_list = []\n",
    "    stdout_list = []\n",
    "    for stdin, stdout in zip(inputs, outputs):\n",
    "        if isinstance(stdin, list):\n",
    "            stdin = \"\\n\".join(stdin)\n",
    "        if isinstance(stdout, list):\n",
    "            stdout = \"\\n\".join(stdout)\n",
    "        if sys.getsizeof(stdin) > 4 * 1024:\n",
    "            continue\n",
    "        stdout.replace(\"\\r\\n\", \"\\n\")\n",
    "        stdin_list.append(stdin)\n",
    "        stdout_list.append(stdout)\n",
    "\n",
    "    zipped = sorted(zip(stdin_list, stdout_list), key=lambda x: sys.getsizeof(x[0]))\n",
    "\n",
    "    if not zipped:\n",
    "        print(\"No tests found!\")\n",
    "        return [], []\n",
    "\n",
    "    sorted_stdin, sorted_stdout = zip(*zipped)\n",
    "    \n",
    "    return [{'input': {'stdin': inp}, 'output': {'stdout': oup}} for inp, oup in zip(list(sorted_stdin[:max_n_tests]), list(sorted_stdout[:max_n_tests]))]"
   ]
  },
  {
   "cell_type": "code",
   "execution_count": 18,
   "metadata": {},
   "outputs": [],
   "source": [
    "import json\n",
    "# in_out = json.loads(df['reward_model'][711]['ground_truth'])\n",
    "# inputs, outputs = in_out['inputs'], in_out['outputs']\n",
    "\n",
    "in_out = json.loads(json_str[711]['reward_model']['ground_truth'])\n",
    "inputs, outputs = in_out['inputs'], in_out['outputs']\n",
    "\n",
    "unitests = minimize_stdio(inputs, outputs)"
   ]
  },
  {
   "cell_type": "code",
   "execution_count": null,
   "metadata": {},
   "outputs": [],
   "source": [
    "unitests"
   ]
  },
  {
   "cell_type": "code",
   "execution_count": 23,
   "metadata": {},
   "outputs": [],
   "source": [
    "unitests.append({'input': {'stdin': '1'}, 'output': {'stdout': '1'}})"
   ]
  },
  {
   "cell_type": "code",
   "execution_count": 24,
   "metadata": {},
   "outputs": [],
   "source": [
    "from verl.workers.agent.envs.collab_code.sandbox_verify import OJConfig, oj_in_sandbox, OJRequest\n",
    "\n",
    "code_str = df['extra_info'][711]['reference']\n",
    "# tests = ground_truth\n",
    "oj_data = {\n",
    "    \"id\": 1,                          # Unique identifier\n",
    "    \"content\": '',                     # Problem statement\n",
    "    \"test\": unitests\n",
    "}\n",
    "\n",
    "result = oj_in_sandbox(OJRequest(\n",
    "    completion=f\"```python\\n{code_str}\\n```\",\n",
    "    config=OJConfig(language='python', provided_data=oj_data, extra={'run_all_cases': True}, run_timeout=5)),\n",
    "                    connection_timeout=5)"
   ]
  },
  {
   "cell_type": "code",
   "execution_count": null,
   "metadata": {},
   "outputs": [],
   "source": [
    "result.accepted"
   ]
  },
  {
   "cell_type": "code",
   "execution_count": null,
   "metadata": {},
   "outputs": [],
   "source": [
    "s = \"\"\"\n",
    "{\n",
    "    \"Core Instruction\": Search for information about the two standard ways to represent a graph in computer science.\",\n",
    "    \"Supplementary Instructions\": [\n",
    "        \"The representation methods should specifically include adjacency list representation.\",\n",
    "        \"The representation methods should also include adjacency matrix representation.\",\n",
    "        \"The information should define a graph G = (V, E) where V is a set of vertices and E is a set of edges.\"\n",
    "    ]\n",
    "}\n",
    "\"\"\"\n",
    "\n",
    "json.loads(s)"
   ]
  },
  {
   "cell_type": "code",
   "execution_count": null,
   "metadata": {},
   "outputs": [],
   "source": [
    "import re\n",
    "\n",
    "def try_extract_solution(solution_str):\n",
    "    answer_pattern = r'<answer>(.*?)</answer>'\n",
    "    matches = list(re.finditer(answer_pattern, solution_str, re.DOTALL))\n",
    "\n",
    "    if matches:\n",
    "        final_answer = matches[-1].group(1).strip()\n",
    "        return final_answer\n",
    "\n",
    "    return solution_str\n",
    "\n",
    "CODE_PATTERN = re.compile(r'```(?:\\w+)?\\n(.*?)\\n```', re.DOTALL)\n",
    "\n",
    "def extract_code_from_string(solution_str):\n",
    "    solution_str = try_extract_solution(solution_str)\n",
    "    code_blocks = CODE_PATTERN.findall(solution_str)\n",
    "    return '\\n'.join(code_blocks).strip()"
   ]
  },
  {
   "cell_type": "code",
   "execution_count": null,
   "metadata": {},
   "outputs": [],
   "source": [
    "solution_str = \"\"\"\n",
    "Some explanation.\n",
    "\n",
    "<answer>\n",
    "This is just a plain answer without any code block.\n",
    "</answer>\n",
    "\"\"\"\n",
    "\n",
    "extract_code_from_string(solution_str)"
   ]
  },
  {
   "cell_type": "code",
   "execution_count": null,
   "metadata": {},
   "outputs": [],
   "source": []
  }
 ],
 "metadata": {
  "language_info": {
   "name": "python"
  }
 },
 "nbformat": 4,
 "nbformat_minor": 2
}
